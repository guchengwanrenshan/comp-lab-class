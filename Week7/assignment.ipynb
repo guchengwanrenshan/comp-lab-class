{
 "cells": [
  {
   "cell_type": "code",
   "execution_count": 2,
   "metadata": {},
   "outputs": [
    {
     "name": "stderr",
     "output_type": "stream",
     "text": [
      "/home/lz2826/.local/lib/python3.8/site-packages/numpy/core/getlimits.py:500: UserWarning: The value of the smallest subnormal for <class 'numpy.float64'> type is zero.\n",
      "  setattr(self, word, getattr(machar, word).flat[0])\n",
      "/home/lz2826/.local/lib/python3.8/site-packages/numpy/core/getlimits.py:89: UserWarning: The value of the smallest subnormal for <class 'numpy.float64'> type is zero.\n",
      "  return self._float_to_str(self.smallest_subnormal)\n",
      "/home/lz2826/.local/lib/python3.8/site-packages/numpy/core/getlimits.py:500: UserWarning: The value of the smallest subnormal for <class 'numpy.float32'> type is zero.\n",
      "  setattr(self, word, getattr(machar, word).flat[0])\n",
      "/home/lz2826/.local/lib/python3.8/site-packages/numpy/core/getlimits.py:89: UserWarning: The value of the smallest subnormal for <class 'numpy.float32'> type is zero.\n",
      "  return self._float_to_str(self.smallest_subnormal)\n"
     ]
    }
   ],
   "source": [
    "import numpy as np\n",
    "import pandas as pd\n",
    "import matplotlib.pyplot as plt\n",
    "import mdtraj as md\n",
    "plt.rcParams['figure.figsize'] = (10, 10)\n",
    "plt.rcParams['font.size'] = 10"
   ]
  },
  {
   "cell_type": "code",
   "execution_count": 3,
   "metadata": {},
   "outputs": [],
   "source": [
    "def select_ca(f_name):\n",
    "    f_name_select = f_name.top.select(\"name =~ 'CA'\")\n",
    "    f_name_ca = f_name.atom_slice(f_name_select)\n",
    "    return f_name_ca"
   ]
  },
  {
   "cell_type": "code",
   "execution_count": 4,
   "metadata": {},
   "outputs": [],
   "source": [
    "path_c='./pdb/1lys_out.pdb'\n",
    "fc = md.load_pdb(path_c)\n",
    "ls_cola=[]\n",
    "for i in range(1,6):\n",
    "    path_p1='./pdb/1lys_cola_rank_'+str(i)+'.pdb'\n",
    "    fp1 = md.load_pdb(path_p1)\n",
    "    rmsd_fp1=md.rmsd(fp1,fc)\n",
    "    rmsd_fp1_ca=md.rmsd (select_ca(fp1),select_ca(fc))\n",
    "    ls_cola.append([rmsd_fp1,rmsd_fp1_ca])"
   ]
  },
  {
   "cell_type": "code",
   "execution_count": 5,
   "metadata": {},
   "outputs": [],
   "source": [
    "ls_g=[]\n",
    "for n in range(5):\n",
    "    path_p2='./pdb/ranked_'+str(n)+'_out.pdb'\n",
    "    fp2 = md.load_pdb(path_p2)\n",
    "    rmsd_fp2=md.rmsd(fp2,fc)\n",
    "    rmsd_fp2_ca= md.rmsd(select_ca(fp2),select_ca(fc))\n",
    "    ls_g.append([rmsd_fp2,rmsd_fp2_ca])"
   ]
  },
  {
   "cell_type": "code",
   "execution_count": 6,
   "metadata": {},
   "outputs": [
    {
     "name": "stdout",
     "output_type": "stream",
     "text": [
      "[[array([0.13198085], dtype=float32), array([0.06221357], dtype=float32)], [array([0.1270765], dtype=float32), array([0.06205747], dtype=float32)], [array([0.12919995], dtype=float32), array([0.0576997], dtype=float32)], [array([0.13061322], dtype=float32), array([0.06188568], dtype=float32)], [array([0.13236044], dtype=float32), array([0.06311771], dtype=float32)], [array([0.13116348], dtype=float32), array([0.06049386], dtype=float32)], [array([0.1256419], dtype=float32), array([0.05573726], dtype=float32)], [array([0.13331065], dtype=float32), array([0.061508], dtype=float32)], [array([0.13043459], dtype=float32), array([0.05623587], dtype=float32)], [array([0.12632984], dtype=float32), array([0.06401093], dtype=float32)]]\n"
     ]
    }
   ],
   "source": [
    "ls_all =ls_cola+ls_g\n",
    "print(ls_all)"
   ]
  },
  {
   "cell_type": "code",
   "execution_count": 7,
   "metadata": {},
   "outputs": [
    {
     "name": "stdout",
     "output_type": "stream",
     "text": [
      "[[0.13198085, 0.06221357], [0.1270765, 0.06205747], [0.12919995, 0.0576997], [0.13061322, 0.06188568], [0.13236044, 0.06311771], [0.13116348, 0.06049386], [0.1256419, 0.05573726], [0.13331065, 0.061508], [0.13043459, 0.05623587], [0.12632984, 0.06401093]]\n"
     ]
    }
   ],
   "source": [
    "for x in ls_all:\n",
    "    x[0] =float(str(x[0]).replace('[','').replace(']',''))\n",
    "    x[1] =float(str(x[1]).replace('[','').replace(']',''))\n",
    "print(ls_all)"
   ]
  },
  {
   "cell_type": "code",
   "execution_count": 8,
   "metadata": {},
   "outputs": [
    {
     "data": {
      "text/html": [
       "<div>\n",
       "<style scoped>\n",
       "    .dataframe tbody tr th:only-of-type {\n",
       "        vertical-align: middle;\n",
       "    }\n",
       "\n",
       "    .dataframe tbody tr th {\n",
       "        vertical-align: top;\n",
       "    }\n",
       "\n",
       "    .dataframe thead th {\n",
       "        text-align: right;\n",
       "    }\n",
       "</style>\n",
       "<table border=\"1\" class=\"dataframe\">\n",
       "  <thead>\n",
       "    <tr style=\"text-align: right;\">\n",
       "      <th></th>\n",
       "      <th>0</th>\n",
       "      <th>1</th>\n",
       "    </tr>\n",
       "  </thead>\n",
       "  <tbody>\n",
       "    <tr>\n",
       "      <th>0</th>\n",
       "      <td>0.131981</td>\n",
       "      <td>0.062214</td>\n",
       "    </tr>\n",
       "    <tr>\n",
       "      <th>1</th>\n",
       "      <td>0.127077</td>\n",
       "      <td>0.062057</td>\n",
       "    </tr>\n",
       "    <tr>\n",
       "      <th>2</th>\n",
       "      <td>0.129200</td>\n",
       "      <td>0.057700</td>\n",
       "    </tr>\n",
       "    <tr>\n",
       "      <th>3</th>\n",
       "      <td>0.130613</td>\n",
       "      <td>0.061886</td>\n",
       "    </tr>\n",
       "    <tr>\n",
       "      <th>4</th>\n",
       "      <td>0.132360</td>\n",
       "      <td>0.063118</td>\n",
       "    </tr>\n",
       "    <tr>\n",
       "      <th>5</th>\n",
       "      <td>0.131163</td>\n",
       "      <td>0.060494</td>\n",
       "    </tr>\n",
       "    <tr>\n",
       "      <th>6</th>\n",
       "      <td>0.125642</td>\n",
       "      <td>0.055737</td>\n",
       "    </tr>\n",
       "    <tr>\n",
       "      <th>7</th>\n",
       "      <td>0.133311</td>\n",
       "      <td>0.061508</td>\n",
       "    </tr>\n",
       "    <tr>\n",
       "      <th>8</th>\n",
       "      <td>0.130435</td>\n",
       "      <td>0.056236</td>\n",
       "    </tr>\n",
       "    <tr>\n",
       "      <th>9</th>\n",
       "      <td>0.126330</td>\n",
       "      <td>0.064011</td>\n",
       "    </tr>\n",
       "  </tbody>\n",
       "</table>\n",
       "</div>"
      ],
      "text/plain": [
       "          0         1\n",
       "0  0.131981  0.062214\n",
       "1  0.127077  0.062057\n",
       "2  0.129200  0.057700\n",
       "3  0.130613  0.061886\n",
       "4  0.132360  0.063118\n",
       "5  0.131163  0.060494\n",
       "6  0.125642  0.055737\n",
       "7  0.133311  0.061508\n",
       "8  0.130435  0.056236\n",
       "9  0.126330  0.064011"
      ]
     },
     "execution_count": 8,
     "metadata": {},
     "output_type": "execute_result"
    }
   ],
   "source": [
    "df=pd.DataFrame(ls_all)\n",
    "df"
   ]
  },
  {
   "cell_type": "code",
   "execution_count": 9,
   "metadata": {
    "scrolled": true
   },
   "outputs": [
    {
     "data": {
      "image/png": "[encoded data removed]",
      "text/plain": [
       "<Figure size 720x720 with 1 Axes>"
      ]
     },
     "metadata": {
      "needs_background": "light"
     },
     "output_type": "display_data"
    },
    {
     "data": {
      "text/plain": [
       "<Figure size 720x720 with 0 Axes>"
      ]
     },
     "metadata": {},
     "output_type": "display_data"
    }
   ],
   "source": [
    "barWidth = 0.4\n",
    "r1 = np.arange(len(df[0]))\n",
    "r2 = [x + barWidth for x in r1]\n",
    "plt.bar(r1,df[0], color='#FF0088',width=barWidth, edgecolor='white', label='RMSD_backbon+sidechain')\n",
    "plt.bar(r2,df[1], color='#00BBFF',width=barWidth, edgecolor='white', label='RMSD_CA')\n",
    "plt.xticks([r + barWidth for r in range(len(df[0]))], ['cola_1','cola_2','cola_3','cola_4','cola_5','greene_1','greene_2','greene_3','greene_4','greene_5'])\n",
    "plt.title('RMSD backbon+sidechain&CA')\n",
    "plt.legend()\n",
    "plt.show()\n",
    "plt.savefig('./pdb/RMSD_bar_backbon+sidechain&CA.png')"
   ]
  },
  {
   "cell_type": "code",
   "execution_count": 12,
   "metadata": {},
   "outputs": [
    {
     "name": "stdout",
     "output_type": "stream",
     "text": [
      "[97.87078179274556, 98.02481151850668, 97.94533352746858, 97.86388590520104, 98.05822775364389]\n"
     ]
    }
   ],
   "source": [
    "import pickle as pck\n",
    "PLDDT=[]\n",
    "for i in range(1,6):\n",
    "    path ='./prediction/1LYS/result_model_'+str(i)+'_pred_0.pkl'\n",
    "    #path2='./prediction/1LYS/result_model_'+str(i)+'_pred_0.pkl'\n",
    "    with open(path, 'rb') as f:\n",
    "         r = pck.load(f)\n",
    "    plddt=r['ranking_confidence']\n",
    "    PLDDT.append(plddt)\n",
    "print(PLDDT)"
   ]
  },
  {
   "cell_type": "code",
   "execution_count": 17,
   "metadata": {},
   "outputs": [],
   "source": [
    "RMSD=np.array([0.131163,0.125642,0.133311,0.130435,0.126330])"
   ]
  },
  {
   "cell_type": "code",
   "execution_count": 24,
   "metadata": {},
   "outputs": [
    {
     "data": {
      "image/png": "[encoded data removed]",
      "text/plain": [
       "<Figure size 720x720 with 1 Axes>"
      ]
     },
     "metadata": {
      "needs_background": "light"
     },
     "output_type": "display_data"
    },
    {
     "name": "stdout",
     "output_type": "stream",
     "text": [
      "-19.993769215207355 100.53932598425364\n"
     ]
    },
    {
     "data": {
      "text/plain": [
       "<Figure size 720x720 with 0 Axes>"
      ]
     },
     "metadata": {},
     "output_type": "display_data"
    }
   ],
   "source": [
    "plddt=np.array(PLDDT) \n",
    "parameter = np.polyfit(RMSD,plddt, 1)\n",
    "y = parameter[0] * RMSD  + parameter[1]\n",
    "plt.scatter(RMSD,PLDDT,c='red' ,s=50)\n",
    "plt.title('RMSD & PLDDT score')\n",
    "plt.plot(RMSD, y, color='g',label='y=-20x+100.53')\n",
    "plt.legend()\n",
    "plt.show()\n",
    "plt.savefig('./pdb/RMSD&PLDDT_score.png')\n",
    "print(parameter[0],parameter[1])"
   ]
  },
  {
   "cell_type": "code",
   "execution_count": null,
   "metadata": {},
   "outputs": [],
   "source": []
  }
 ],
 "metadata": {
  "kernelspec": {
   "display_name": "Python 3",
   "language": "python",
   "name": "python3"
  },
  "language_info": {
   "codemirror_mode": {
    "name": "ipython",
    "version": 3
   },
   "file_extension": ".py",
   "mimetype": "text/x-python",
   "name": "python",
   "nbconvert_exporter": "python",
   "pygments_lexer": "ipython3",
   "version": "3.8.6"
  }
 },
 "nbformat": 4,
 "nbformat_minor": 4
}
